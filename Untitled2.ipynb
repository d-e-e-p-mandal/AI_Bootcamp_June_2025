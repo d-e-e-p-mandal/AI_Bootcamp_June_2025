{
  "nbformat": 4,
  "nbformat_minor": 0,
  "metadata": {
    "colab": {
      "provenance": []
    },
    "kernelspec": {
      "name": "python3",
      "display_name": "Python 3"
    },
    "language_info": {
      "name": "python"
    }
  },
  "cells": [
    {
      "cell_type": "code",
      "execution_count": 3,
      "metadata": {
        "colab": {
          "base_uri": "https://localhost:8080/"
        },
        "id": "uepKAFmWNXn8",
        "outputId": "f63621c7-b0dd-41ba-bac2-3244b5670a8d"
      },
      "outputs": [
        {
          "output_type": "stream",
          "name": "stdout",
          "text": [
            "Enter first number: 7\n",
            "Enter operator (+, -, *, /): +\n",
            "Enter second number: 3\n",
            "Result: 10.0\n"
          ]
        }
      ],
      "source": [
        "\n",
        "num1 = float(input(\"Enter first number: \"))\n",
        "op = input(\"Enter operator (+, -, *, /): \")\n",
        "num2 = float(input(\"Enter second number: \"))\n",
        "\n",
        "if op == '+':\n",
        "    print(\"Result:\", num1 + num2)\n",
        "elif op == '-':\n",
        "    print(\"Result:\", num1 - num2)\n",
        "elif op == '*':\n",
        "    print(\"Result:\", num1 * num2)\n",
        "elif op == '/':\n",
        "    if num2 != 0:\n",
        "        print(\"Result:\", num1 / num2)\n",
        "    else:\n",
        "        print(\"Error: Division by zero!\")\n",
        "else:\n",
        "    print(\"Invalid operator\")"
      ]
    }
  ]
}